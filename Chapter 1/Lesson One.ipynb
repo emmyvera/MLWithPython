{
 "cells": [
  {
   "cell_type": "markdown",
   "metadata": {},
   "source": [
    "What I learn from \n",
    "\n",
    "<b>Introduction to Machine Learning with Python A GUIDE FOR DATA SCIENTISTS</b>\n",
    "\n",
    "by <b>Andreas C. Müller & Sarah Guido</b>\n",
    "\n",
    "During the 70 Days pre bootcamp online class with <b>Data Science Nigeria</b> #DSN"
   ]
  },
  {
   "cell_type": "markdown",
   "metadata": {},
   "source": [
    "## Machine learning \n",
    "Is about extracting knowledge from data. It is a research field at the intersection of statistics, artificial intelligence, and computer science and is also known as predictive analytics or statistical learning."
   ]
  },
  {
   "cell_type": "markdown",
   "metadata": {},
   "source": [
    "Machine learning algorithms that learn from input/output pairs are called <b> supervised\n",
    "learning </b> algorithms because a “teacher” provides supervision to the algorithms in the\n",
    "form of the desired outputs for each example that they learn from."
   ]
  },
  {
   "cell_type": "markdown",
   "metadata": {},
   "source": [
    "Examples of supervised machine learning that a computer can solve includes:\n",
    "1. Identifying the zip code from handwritten digits on an envelope\n",
    "2. Determining whether a tumor is benign based on a medical image\n",
    "3. Detecting fraudulent activity in credit card transactions"
   ]
  },
  {
   "cell_type": "markdown",
   "metadata": {},
   "source": [
    "Machine learning algorithms that learn from only the input data, and no known output\n",
    "data is given to the algorithm are called <b>unsupervised learning</b>,"
   ]
  },
  {
   "cell_type": "markdown",
   "metadata": {},
   "source": [
    "Examples of unsupervised learning include:\n",
    "1. Identifying topics in a set of blog posts\n",
    "2. Segmenting customers into groups with similar preferences\n",
    "3. Detecting abnormal access patterns to a website"
   ]
  },
  {
   "cell_type": "markdown",
   "metadata": {},
   "source": [
    "When building a machine learning solution, you should keep in mind, the following questions:\n",
    "What question(s) am I trying to answer? Do I think the data collected can answer\n",
    "that question?\n",
    "1. What is the best way to phrase my question(s) as a machine learning problem?\n",
    "2. Have I collected enough data to represent the problem I want to solve? <b>(Good / Correct Data)</b>\n",
    "3. What features of the data did I extract, and will these enable the right predictions?\n",
    "4. How will I measure success in my application?\n",
    "5. How will the machine learning solution interact with other parts of my research or business product?"
   ]
  },
  {
   "cell_type": "markdown",
   "metadata": {},
   "source": [
    "One of the main advantages of using Python is the ability to interact directly with the code, using a terminal or other tools like the Jupyter Notebook\n",
    "\n",
    "Libriries Like\n",
    "\n",
    "1. Scikit Learn\n",
    "2. Numpy\n",
    "3. Pandas\n",
    "4. Matplotlib\n",
    "5. Scipy and more makes Machine Learning Possible and Fun"
   ]
  },
  {
   "cell_type": "markdown",
   "metadata": {},
   "source": [
    "## My First Example In this book\n",
    "\n",
    "### Classifying Iris Species (This is a Classification Problem In Supervised Learning; There are two type of problem in supervised learning, classification is one of them, the other is Regression)\n",
    "\n",
    "My goal is to build a machine learning model that can learn from the measurements of these irises whose species is known, so that we can predict the species for a new iris."
   ]
  },
  {
   "cell_type": "markdown",
   "metadata": {},
   "source": [
    "`[iris flower.png]"
   ]
  },
  {
   "cell_type": "code",
   "execution_count": 1,
   "metadata": {},
   "outputs": [],
   "source": [
    "#Loading Dataset from sklearn\n",
    "#Sometimes you will be given dataset in form of csv, sometimes you will have to query from SQL database, \n",
    "#Sometimes to will have to find it yourself example like performing webscraping from a webpage/website\n",
    "#Any which way Python got you covered (#libraries)\n",
    "from sklearn.datasets import load_iris\n",
    "iris_dataset = load_iris()"
   ]
  },
  {
   "cell_type": "code",
   "execution_count": 3,
   "metadata": {},
   "outputs": [
    {
     "name": "stdout",
     "output_type": "stream",
     "text": [
      "Keys of iris_dataset: \n",
      "dict_keys(['data', 'target', 'target_names', 'DESCR', 'feature_names', 'filename'])\n",
      ".. _iris_dataset:\n",
      "\n",
      "Iris plants dataset\n",
      "--------------------\n",
      "\n",
      "**Data Set Characteristics:**\n",
      "\n",
      "    :Number of Instances: 150 (50 in each of three classes)\n",
      "    :Number of Attributes: 4 numeric, pre\n",
      "...\n"
     ]
    }
   ],
   "source": [
    "# Getting Some info about our Data Set\n",
    "print(\"Keys of iris_dataset: \\n{}\".format(iris_dataset.keys()))\n",
    "print(iris_dataset['DESCR'][:193] + \"\\n...\")"
   ]
  },
  {
   "cell_type": "code",
   "execution_count": 4,
   "metadata": {},
   "outputs": [
    {
     "name": "stdout",
     "output_type": "stream",
     "text": [
      "Target names: ['setosa' 'versicolor' 'virginica']\n"
     ]
    }
   ],
   "source": [
    "#This print the target_names, that is the species of flower that we want to predict (Our Output)\n",
    "print(\"Target names: {}\".format(iris_dataset['target_names']))\n"
   ]
  },
  {
   "cell_type": "code",
   "execution_count": 5,
   "metadata": {},
   "outputs": [
    {
     "name": "stdout",
     "output_type": "stream",
     "text": [
      "Feature names: \n",
      "['sepal length (cm)', 'sepal width (cm)', 'petal length (cm)', 'petal width (cm)']\n"
     ]
    }
   ],
   "source": [
    "#This print out the feature_names, the list of strings, giving the description of each feature (Input)\n",
    "print(\"Feature names: \\n{}\".format(iris_dataset['feature_names']))"
   ]
  },
  {
   "cell_type": "code",
   "execution_count": 6,
   "metadata": {},
   "outputs": [
    {
     "name": "stdout",
     "output_type": "stream",
     "text": [
      "Type of data: <class 'numpy.ndarray'>\n"
     ]
    }
   ],
   "source": [
    "# Data Type\n",
    "print(\"Type of data: {}\".format(type(iris_dataset['data'])))"
   ]
  },
  {
   "cell_type": "code",
   "execution_count": 7,
   "metadata": {},
   "outputs": [
    {
     "name": "stdout",
     "output_type": "stream",
     "text": [
      "Shape of data: (150, 4)\n"
     ]
    }
   ],
   "source": [
    "#Numbers of entries (rows) by the header (Column)\n",
    "print(\"Shape of data: {}\".format(iris_dataset['data'].shape))"
   ]
  },
  {
   "cell_type": "code",
   "execution_count": 8,
   "metadata": {},
   "outputs": [
    {
     "name": "stdout",
     "output_type": "stream",
     "text": [
      "First five columns of data:\n",
      "[[5.1 3.5 1.4 0.2]\n",
      " [4.9 3.  1.4 0.2]\n",
      " [4.7 3.2 1.3 0.2]\n",
      " [4.6 3.1 1.5 0.2]\n",
      " [5.  3.6 1.4 0.2]]\n"
     ]
    }
   ],
   "source": [
    "# Examples\n",
    "print(\"First five columns of data:\\n{}\".format(iris_dataset['data'][:5]))"
   ]
  },
  {
   "cell_type": "code",
   "execution_count": 9,
   "metadata": {},
   "outputs": [
    {
     "name": "stdout",
     "output_type": "stream",
     "text": [
      "Target:\n",
      "[0 0 0 0 0 0 0 0 0 0 0 0 0 0 0 0 0 0 0 0 0 0 0 0 0 0 0 0 0 0 0 0 0 0 0 0 0\n",
      " 0 0 0 0 0 0 0 0 0 0 0 0 0 1 1 1 1 1 1 1 1 1 1 1 1 1 1 1 1 1 1 1 1 1 1 1 1\n",
      " 1 1 1 1 1 1 1 1 1 1 1 1 1 1 1 1 1 1 1 1 1 1 1 1 1 1 2 2 2 2 2 2 2 2 2 2 2\n",
      " 2 2 2 2 2 2 2 2 2 2 2 2 2 2 2 2 2 2 2 2 2 2 2 2 2 2 2 2 2 2 2 2 2 2 2 2 2\n",
      " 2 2]\n"
     ]
    }
   ],
   "source": [
    "#Computers Dont Understand String(Letter, Symbols) So The Need for us to encode our target\n",
    "print(\"Target:\\n{}\".format(iris_dataset['target']))"
   ]
  },
  {
   "cell_type": "markdown",
   "metadata": {},
   "source": [
    "<b>Measuring Success</b> Why do I Training and Testing Data\n",
    "To know whether we should trust its predictions."
   ]
  },
  {
   "cell_type": "code",
   "execution_count": 10,
   "metadata": {},
   "outputs": [],
   "source": [
    "from sklearn.model_selection import train_test_split\n",
    "X_train, X_test, y_train, y_test = train_test_split(\n",
    "iris_dataset['data'], iris_dataset['target'], random_state=0)"
   ]
  },
  {
   "cell_type": "markdown",
   "metadata": {},
   "source": [
    "We Divided our data into two because we need to train our data (Like a Teacher in a Class) then we test our data (Like a Teacher Knowing whether His/Her Students really understand the subject. Do you get the gist ;-).)"
   ]
  },
  {
   "cell_type": "code",
   "execution_count": 11,
   "metadata": {},
   "outputs": [
    {
     "name": "stdout",
     "output_type": "stream",
     "text": [
      "X_train shape: (112, 4)\n",
      "y_train shape: (112,)\n"
     ]
    }
   ],
   "source": [
    "# No of our traning data (In the teacher/student story, this will be the no of example our teachers \n",
    "# gives us in class) \n",
    "print(\"X_train shape: {}\".format(X_train.shape))\n",
    "print(\"y_train shape: {}\".format(y_train.shape))"
   ]
  },
  {
   "cell_type": "markdown",
   "metadata": {},
   "source": [
    "Now unlike us (Humans) we have to give our computers lots and lots of \n",
    "example,the more example we give the our computers, the more our computer perform well "
   ]
  },
  {
   "cell_type": "code",
   "execution_count": 12,
   "metadata": {},
   "outputs": [
    {
     "name": "stdout",
     "output_type": "stream",
     "text": [
      "X_test shape: (38, 4)\n",
      "y_test shape: (38,)\n"
     ]
    }
   ],
   "source": [
    "# No of our test data (In the teacher/student story, this will be the accessment \n",
    "#(CAs: Classwork Home-work Exam Project) our teachers \n",
    "# gives us in school) \n",
    "print(\"X_test shape: {}\".format(X_test.shape))\n",
    "print(\"y_test shape: {}\".format(y_test.shape))"
   ]
  },
  {
   "cell_type": "code",
   "execution_count": null,
   "metadata": {},
   "outputs": [],
   "source": []
  }
 ],
 "metadata": {
  "kernelspec": {
   "display_name": "Python 3",
   "language": "python",
   "name": "python3"
  },
  "language_info": {
   "codemirror_mode": {
    "name": "ipython",
    "version": 3
   },
   "file_extension": ".py",
   "mimetype": "text/x-python",
   "name": "python",
   "nbconvert_exporter": "python",
   "pygments_lexer": "ipython3",
   "version": "3.7.3"
  }
 },
 "nbformat": 4,
 "nbformat_minor": 2
}
